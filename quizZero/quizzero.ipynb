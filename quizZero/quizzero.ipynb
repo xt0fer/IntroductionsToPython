{
 "cells": [
  {
   "cell_type": "markdown",
   "id": "a46a7ccb",
   "metadata": {},
   "source": [
    "# Quiz Zero"
   ]
  },
  {
   "cell_type": "markdown",
   "id": "ea80aa99",
   "metadata": {},
   "source": [
    "### One\n",
    "\n",
    "Check if the first and last number of a list is the same\n",
    "\n",
    "Write a function to return True if the first and last number of a given list is same. If numbers are different then return False.\n",
    "\n",
    "#### Given:\n",
    "\n",
    "```\n",
    "numbers_x = [10, 20, 30, 40, 10]\n",
    "numbers_y = [75, 65, 35, 75, 30]\n",
    "numbers_z = [42, 65, 21, 92, 72, 75, 30]\n",
    "extra_a = [42]\n",
    "```\n",
    "\n",
    "#### Expected Output:\n",
    "\n",
    "```\n",
    "Given list: [10, 20, 30, 40, 10]\n",
    "result is True\n",
    "\n",
    "numbers_y = [75, 65, 35, 75, 30]\n",
    "result is False\n",
    "\n",
    "numbers_z = [42, 65, 21, 92, 72, 75, 30]\n",
    "result is False\n",
    "\n",
    "extra_a = [42]\n",
    "result is True\n",
    "```"
   ]
  },
  {
   "cell_type": "code",
   "execution_count": null,
   "id": "b8002312",
   "metadata": {},
   "outputs": [],
   "source": [
    "numbers_x = [10, 20, 30, 40, 10]\n",
    "numbers_y = [75, 65, 35, 75, 30]\n",
    "numbers_z = [42, 65, 21, 92, 72, 75, 30]\n",
    "extra_a = [42]\n"
   ]
  },
  {
   "cell_type": "code",
   "execution_count": null,
   "id": "27355463",
   "metadata": {},
   "outputs": [],
   "source": [
    "def first_last_same():\n",
    "    pass"
   ]
  },
  {
   "cell_type": "markdown",
   "id": "b68d0541",
   "metadata": {},
   "source": [
    "## Two\n",
    "\n",
    "Display numbers divisible by 5 from a list (remember modulo `%`)\n",
    "\n",
    "Iterate the given list of numbers and print only those numbers which are divisible by 5\n",
    "\n",
    "Expected Output:\n",
    "```\n",
    "Given list is  [10, 20, 33, 46, 55]\n",
    "Divisible by 5\n",
    "10\n",
    "20\n",
    "55\n",
    "```"
   ]
  },
  {
   "cell_type": "code",
   "execution_count": null,
   "id": "19f5e68e",
   "metadata": {},
   "outputs": [],
   "source": [
    "isFivers = [10, 20, 33, 46, 55]"
   ]
  },
  {
   "cell_type": "code",
   "execution_count": null,
   "id": "e9700754",
   "metadata": {},
   "outputs": [],
   "source": [
    "def divides_by_five(lll):\n",
    "    pass\n",
    "\n",
    "divides_by_five(isFivers)"
   ]
  },
  {
   "cell_type": "markdown",
   "id": "8f9199eb",
   "metadata": {},
   "source": [
    "## Three\n",
    "\n",
    "Return the count of a given substring from a string\n",
    "\n",
    "Write a program to find how many times substring “Emma” appears in the given string.\n",
    "\n",
    "Given:\n",
    "\n",
    "```\n",
    "str_x = \"Emma is good developer. Emma is a writer\"\n",
    "```\n",
    "\n",
    "Expected Output:\n",
    "\n",
    "```\n",
    "Emma appeared 2 times\n",
    "```"
   ]
  },
  {
   "cell_type": "code",
   "execution_count": null,
   "id": "6104c627",
   "metadata": {},
   "outputs": [],
   "source": [
    "str_x = \"Emma is good developer. Emma is a writer\""
   ]
  },
  {
   "cell_type": "code",
   "execution_count": null,
   "id": "fc112eca",
   "metadata": {},
   "outputs": [],
   "source": [
    "def count_substrings(src, target):\n",
    "    pass\n",
    "\n",
    "count_substrings(str_x, 'Emma')"
   ]
  },
  {
   "cell_type": "markdown",
   "id": "3f73f097",
   "metadata": {},
   "source": [
    "## Four\n",
    "\n",
    "Check Palindrome Number\n",
    "\n",
    "Write a program to check if the given number is a palindrome number.\n",
    "\n",
    "A palindrome number is a number that is same after reverse. For example 545, is the palindrome numbers\n",
    "\n",
    "Expected Output:\n",
    "\n",
    "```\n",
    "original number 121\n",
    "Yes. given number is palindrome number\n",
    "```\n",
    "```\n",
    "original number 125\n",
    "No. given number is not palindrome number\n",
    "```"
   ]
  },
  {
   "cell_type": "code",
   "execution_count": null,
   "id": "f74bab0d",
   "metadata": {},
   "outputs": [],
   "source": [
    "n1 = 121\n",
    "n2 = 125\n",
    "n3 = 5775\n",
    "n4 = 77787288\n",
    "\n",
    "def is_pal_num(n):\n",
    "    pass\n",
    "\n",
    "print(is_pal_num(n1))\n",
    "print(is_pal_num(n2))\n",
    "print(is_pal_num(n3))\n",
    "print(is_pal_num(n4))\n"
   ]
  },
  {
   "cell_type": "markdown",
   "id": "ae68440f",
   "metadata": {},
   "source": [
    "## Five\n",
    "\n",
    "Create a new list from a two lists using a condition.\n",
    "\n",
    "Given a two list of numbers, write a program to create a new list such that the new list should contain odd numbers from the first list and even numbers from the second list.\n",
    "\n",
    "Given:\n",
    "```\n",
    "list1 = [10, 20, 25, 30, 35]\n",
    "list2 = [40, 45, 60, 75, 90]\n",
    "```\n",
    "Expected Output:\n",
    "\n",
    "```\n",
    "result list: [25, 35, 40, 60, 90]\n",
    "```\n"
   ]
  },
  {
   "cell_type": "code",
   "execution_count": null,
   "id": "893ed7bb",
   "metadata": {},
   "outputs": [],
   "source": [
    "# script here."
   ]
  },
  {
   "cell_type": "markdown",
   "id": "2e973b33",
   "metadata": {},
   "source": [
    "## Six\n",
    "\n",
    "Write a Program to extract each digit from an integer in the reverse order.\n",
    "\n",
    "For example, If the given int is 7536, the output shall be “6 3 5 7“, with a space separating the digits."
   ]
  },
  {
   "cell_type": "code",
   "execution_count": null,
   "id": "1a4bdfb2",
   "metadata": {},
   "outputs": [],
   "source": [
    "t1 = 7536\n",
    "t2 = 123456\n",
    "t3 = 987987\n",
    "\n",
    "def rev_to_list(t):\n",
    "    pass\n",
    "\n",
    "print(rev_to_list(t1))\n",
    "print(rev_to_list(t2))\n",
    "print(rev_to_list(t3))"
   ]
  },
  {
   "cell_type": "code",
   "execution_count": null,
   "id": "18da0057",
   "metadata": {},
   "outputs": [],
   "source": []
  }
 ],
 "metadata": {
  "kernelspec": {
   "display_name": "Python 3 (ipykernel)",
   "language": "python",
   "name": "python3"
  },
  "language_info": {
   "codemirror_mode": {
    "name": "ipython",
    "version": 3
   },
   "file_extension": ".py",
   "mimetype": "text/x-python",
   "name": "python",
   "nbconvert_exporter": "python",
   "pygments_lexer": "ipython3",
   "version": "3.11.1"
  }
 },
 "nbformat": 4,
 "nbformat_minor": 5
}
