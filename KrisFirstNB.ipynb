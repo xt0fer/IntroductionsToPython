{
 "cells": [
  {
   "cell_type": "code",
   "execution_count": 11,
   "id": "29fcef98-b1a2-4840-921c-19890bf16ef4",
   "metadata": {},
   "outputs": [
    {
     "name": "stdout",
     "output_type": "stream",
     "text": [
      "hello zipcode\n"
     ]
    }
   ],
   "source": [
    "print('hello zipcode')\n",
    "x = 8"
   ]
  },
  {
   "cell_type": "code",
   "execution_count": 12,
   "id": "2f0ce2f7-06cc-44df-a88e-fb3f72f72948",
   "metadata": {},
   "outputs": [
    {
     "name": "stdout",
     "output_type": "stream",
     "text": [
      "8 5 623\n"
     ]
    }
   ],
   "source": [
    "# x = 4\n",
    "y = 5\n",
    "z = x + y * 123\n",
    "print(x, y, z)"
   ]
  },
  {
   "cell_type": "code",
   "execution_count": null,
   "id": "0657f80d-68bb-470c-949f-32a038201f39",
   "metadata": {},
   "outputs": [],
   "source": []
  }
 ],
 "metadata": {
  "kernelspec": {
   "display_name": "Python 3 (ipykernel)",
   "language": "python",
   "name": "python3"
  },
  "language_info": {
   "codemirror_mode": {
    "name": "ipython",
    "version": 3
   },
   "file_extension": ".py",
   "mimetype": "text/x-python",
   "name": "python",
   "nbconvert_exporter": "python",
   "pygments_lexer": "ipython3",
   "version": "3.11.5"
  }
 },
 "nbformat": 4,
 "nbformat_minor": 5
}
