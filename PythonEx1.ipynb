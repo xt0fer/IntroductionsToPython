{
 "cells": [
  {
   "cell_type": "markdown",
   "id": "c5dd41dc-705a-40c0-b2a0-a6710076977b",
   "metadata": {},
   "source": [
    "## Exercise 2"
   ]
  },
  {
   "cell_type": "code",
   "execution_count": 4,
   "id": "b408eb6c-bb40-4d0c-8d16-5cc115880468",
   "metadata": {
    "tags": []
   },
   "outputs": [
    {
     "name": "stdout",
     "output_type": "stream",
     "text": [
      "True <class 'bool'>\n",
      "42 <class 'int'>\n",
      "False <class 'bool'>\n",
      "1.5 <class 'float'>\n",
      "Python is fun <class 'str'>\n",
      "3.5 <class 'str'>\n"
     ]
    }
   ],
   "source": [
    "ll = [True,\n",
    "42,\n",
    "False,\n",
    "1.5,\n",
    "\"Python is fun\",\n",
    "\"3.5\"]\n",
    "\n",
    "for e in ll:\n",
    "    print(e, type(e))"
   ]
  },
  {
   "cell_type": "markdown",
   "id": "5b29a01a-6aa9-4778-9231-2ba17f3cc654",
   "metadata": {},
   "source": [
    "## Exercise 3"
   ]
  },
  {
   "cell_type": "markdown",
   "id": "47ce711a-4d7f-4d6f-8f4f-7c5fd4963f55",
   "metadata": {},
   "source": [
    "## Using the Python interpreter, perform the following operations. Be sure to experiment with mixing intergers and floats.\n",
    "- Addition\n",
    "- Subtraction\n",
    "- Multiplication\n",
    "- Division\n",
    "- Floor division\n",
    "- Modulo\n",
    "- Exponentiation"
   ]
  },
  {
   "cell_type": "code",
   "execution_count": 5,
   "id": "e4949c9f-9c44-4c59-a771-3358e68d9d26",
   "metadata": {
    "tags": []
   },
   "outputs": [
    {
     "name": "stdout",
     "output_type": "stream",
     "text": [
      "results  690 134 34234209390281315088102 0.282533611900081 6 1 514\n"
     ]
    }
   ],
   "source": [
    "a = 123 + 567\n",
    "b = 898 - 764\n",
    "c = 98347927429 * 348092840238\n",
    "d = 98347927429 / 348092840238\n",
    "e = 13 // 2\n",
    "f = 13 % 2\n",
    "g = 2^512\n",
    "\n",
    "print(\"results \", a, b, c, d, e, f, g)"
   ]
  },
  {
   "cell_type": "markdown",
   "id": "6df58aa8-0108-4a66-98a6-8d7eb96913d3",
   "metadata": {
    "tags": []
   },
   "source": [
    "## Exercise 4\n",
    "Create a Python script called *first_name_500_times.py*. Modify your script according to the instructions below.\n",
    "\n",
    "* Declare a variable called *first_name* with your first name as its value.\n",
    "* Print the value of *first_name* to the screen 500 times.\n",
    "* Save & execute the script.\n"
   ]
  },
  {
   "cell_type": "code",
   "execution_count": 13,
   "id": "6e1766f1-2b67-4564-bbf5-357322800966",
   "metadata": {
    "scrolled": true,
    "tags": []
   },
   "outputs": [
    {
     "name": "stdout",
     "output_type": "stream",
     "text": [
      "foofoofoofoofoofoofoofoofoofoofoofoofoofoofoofoofoofoofoofoofoofoofoofoofoofoofoofoofoofoofoofoofoofoofoofoofoofoofoofoofoofoofoofoofoofoofoofoofoofoofoofoofoofoofoofoofoofoofoofoofoofoofoofoofoofoofoofoofoofoofoofoofoofoofoofoofoofoofoofoofoofoofoofoofoofoofoofoofoofoofoofoofoofoofoofoofoofoofoofoofoofoofoofoofoofoofoofoofoofoofoofoofoofoofoofoofoofoofoofoofoofoofoofoofoofoofoofoofoofoofoofoofoofoofoofoofoofoofoofoofoofoofoofoofoofoofoofoofoofoofoofoofoofoofoofoofoofoofoofoofoofoofoofoofoofoofoofoofoofoofoofoofoofoofoofoofoofoofoofoofoofoofoofoofoofoofoofoofoofoofoofoofoofoofoofoofoofoofoofoofoofoofoofoofoofoofoofoofoofoofoofoofoofoofoofoofoofoofoofoofoofoofoofoofoofoofoofoofoofoofoofoofoofoofoofoofoofoofoofoofoofoofoofoofoofoofoofoofoofoofoofoofoofoofoofoofoofoofoofoofoofoofoofoofoofoofoofoofoofoofoofoofoofoofoofoofoofoofoofoofoofoofoofoofoofoofoofoofoofoofoofoofoofoofoofoofoofoofoofoofoofoofoofoofoofoofoofoofoofoofoofoofoofoofoofoofoofoofoofoofoofoofoofoofoofoofoofoofoofoofoofoofoofoofoofoofoofoofoofoofoofoofoofoofoofoofoofoofoofoofoofoofoofoofoofoofoofoofoofoofoofoofoofoofoofoofoofoofoofoofoofoofoofoofoofoofoofoofoofoofoofoofoofoofoofoofoofoofoofoofoofoofoofoofoofoofoofoofoofoofoofoofoofoofoofoofoofoofoofoofoofoofoofoofoofoofoofoofoofoofoofoofoofoofoofoofoofoofoofoofoofoofoofoofoofoofoofoofoofoofoofoofoofoofoofoofoofoofoofoofoofoofoofoofoofoofoofoofoofoofoofoofoofoofoofoofoofoofoofoofoofoofoofoofoofoofoofoofoofoofoofoofoofoofoofoofoofoofoofoofoofoofoofoofoofoofoofoofoofoo\n"
     ]
    }
   ],
   "source": [
    "first_name = 'kristofer'\n",
    "\n",
    "def first_name_500_times(name = 'foo'):\n",
    "    print(name*500)\n",
    "\n",
    "first_name_500_times()"
   ]
  },
  {
   "cell_type": "code",
   "execution_count": 15,
   "id": "a72fe39b",
   "metadata": {},
   "outputs": [
    {
     "name": "stdout",
     "output_type": "stream",
     "text": [
      "mikemikemikemikemikemikemikemikemikemikemikemikemikemikemikemikemikemikemikemikemikemikemikemikemikemikemikemikemikemikemikemikemikemikemikemikemikemikemikemikemikemikemikemikemikemikemikemikemikemikemikemikemikemikemikemikemikemikemikemikemikemikemikemikemikemikemikemikemikemikemikemikemikemikemikemikemikemikemikemikemikemikemikemikemikemikemikemikemikemikemikemikemikemikemikemikemikemikemikemikemikemikemikemikemikemikemikemikemikemikemikemikemikemikemikemikemikemikemikemikemikemikemikemikemikemikemikemikemikemikemikemikemikemikemikemikemikemikemikemikemikemikemikemikemikemikemikemikemikemikemikemikemikemikemikemikemikemikemikemikemikemikemikemikemikemikemikemikemikemikemikemikemikemikemikemikemikemikemikemikemikemikemikemikemikemikemikemikemikemikemikemikemikemikemikemikemikemikemikemikemikemikemikemikemikemikemikemikemikemikemikemikemikemikemikemikemikemikemikemikemikemikemikemikemikemikemikemikemikemikemikemikemikemikemikemikemikemikemikemikemikemikemikemikemikemikemikemikemikemikemikemikemikemikemikemikemikemikemikemikemikemikemikemikemikemikemikemikemikemikemikemikemikemikemikemikemikemikemikemikemikemikemikemikemikemikemikemikemikemikemikemikemikemikemikemikemikemikemikemikemikemikemikemikemikemikemikemikemikemikemikemikemikemikemikemikemikemikemikemikemikemikemikemikemikemikemikemikemikemikemikemikemikemikemikemikemikemikemikemikemikemikemikemikemikemikemikemikemikemikemikemikemikemikemikemikemikemikemikemikemikemikemikemikemikemikemikemikemikemikemikemikemikemikemikemikemikemikemikemikemikemikemikemikemikemikemikemikemikemikemikemikemikemikemikemikemikemikemikemikemikemikemikemikemikemikemikemikemikemikemikemikemikemikemikemikemikemikemikemikemikemikemikemikemikemikemikemikemikemikemikemikemikemikemikemikemikemikemikemikemikemikemikemikemikemikemikemikemikemikemikemikemikemikemikemikemikemikemikemikemikemikemikemikemikemikemikemikemikemikemikemikemikemikemikemikemikemikemikemikemikemikemikemikemikemikemikemikemikemikemikemikemikemikemikemikemikemikemikemike\n"
     ]
    }
   ],
   "source": [
    "first_name_500_times('mike')"
   ]
  },
  {
   "cell_type": "code",
   "execution_count": 16,
   "id": "631b5142",
   "metadata": {},
   "outputs": [
    {
     "data": {
      "text/plain": [
       "['In',\n",
       " 'Out',\n",
       " '_',\n",
       " '_1',\n",
       " '_11',\n",
       " '_7',\n",
       " '__',\n",
       " '___',\n",
       " '__builtin__',\n",
       " '__builtins__',\n",
       " '__doc__',\n",
       " '__loader__',\n",
       " '__name__',\n",
       " '__package__',\n",
       " '__spec__',\n",
       " '_dh',\n",
       " '_i',\n",
       " '_i1',\n",
       " '_i10',\n",
       " '_i11',\n",
       " '_i12',\n",
       " '_i13',\n",
       " '_i14',\n",
       " '_i15',\n",
       " '_i16',\n",
       " '_i2',\n",
       " '_i3',\n",
       " '_i4',\n",
       " '_i5',\n",
       " '_i6',\n",
       " '_i7',\n",
       " '_i8',\n",
       " '_i9',\n",
       " '_ih',\n",
       " '_ii',\n",
       " '_iii',\n",
       " '_oh',\n",
       " 'a',\n",
       " 'b',\n",
       " 'c',\n",
       " 'd',\n",
       " 'e',\n",
       " 'exit',\n",
       " 'f',\n",
       " 'fahrenheit_to_celsius',\n",
       " 'first_name',\n",
       " 'first_name_500_times',\n",
       " 'g',\n",
       " 'get_ipython',\n",
       " 'last_name',\n",
       " 'll',\n",
       " 'open',\n",
       " 'print_name',\n",
       " 'quit',\n",
       " 's']"
      ]
     },
     "execution_count": 16,
     "metadata": {},
     "output_type": "execute_result"
    }
   ],
   "source": [
    "dir()"
   ]
  },
  {
   "cell_type": "markdown",
   "id": "b86fc516-4f30-409c-95ee-df87c2fc8b3e",
   "metadata": {},
   "source": [
    "## Exercise 5.b\n",
    "\n",
    "Modify *full_name.py* according to the instructions below.\n",
    "\n",
    "* Comment out the line where your first name was printed 500 times.\n",
    "* Create a variable called *last_name* with your last name as its value.\n",
    "* Create a variable called *full_name* whose value is the combination of the *first_name* variable and the *last_name* variable.\n",
    "* Print the value of the *full_name* variable.\n"
   ]
  },
  {
   "cell_type": "code",
   "execution_count": 8,
   "id": "4c1d957a-49d8-47be-8811-088e8bd5dfcf",
   "metadata": {
    "tags": []
   },
   "outputs": [
    {
     "name": "stdout",
     "output_type": "stream",
     "text": [
      "kristofer younger\n"
     ]
    }
   ],
   "source": [
    "first_name = 'kristofer'\n",
    "last_name = 'younger'\n",
    "\n",
    "def print_name():\n",
    "    full_name = first_name + ' ' + last_name\n",
    "    print(full_name)\n",
    "\n",
    "print_name()"
   ]
  },
  {
   "cell_type": "markdown",
   "id": "db2640f1-1909-4ac1-bbb9-ad20f383b389",
   "metadata": {
    "tags": []
   },
   "source": [
    "## Exercise 6\n",
    "\n",
    "Create a Python script called *fahrenheit_to_celsius.py*\n",
    "\n",
    "* The script should declare a variable called fahrenheit.\n",
    "* The script should then convert the value of fahrenheit to celsius.\n",
    "* The conversion should be displayed on the screeen in the following format:\n",
    "\"32 degrees fahrenheit is equal to 0.0 degree(s) celsius\""
   ]
  },
  {
   "cell_type": "code",
   "execution_count": 9,
   "id": "14640599-02cc-4600-823e-13b72a7b4f4d",
   "metadata": {
    "tags": []
   },
   "outputs": [
    {
     "name": "stdout",
     "output_type": "stream",
     "text": [
      "32.0degrees fahrenheit is equal to0.0degree(s) celsius\n",
      "212.0degrees fahrenheit is equal to100.0degree(s) celsius\n",
      "72.0degrees fahrenheit is equal to22.22222222222222degree(s) celsius\n"
     ]
    }
   ],
   "source": [
    "def fahrenheit_to_celsius(f : float):\n",
    "    c = (f - 32) * (5.0/9.0)\n",
    "    s = str(f) + 'degrees fahrenheit is equal to' + str(c) + 'degree(s) celsius'\n",
    "    print(s)\n",
    "    \n",
    "fahrenheit_to_celsius(32.0)\n",
    "fahrenheit_to_celsius(212.0)\n",
    "fahrenheit_to_celsius(72.0)"
   ]
  },
  {
   "cell_type": "code",
   "execution_count": 10,
   "id": "b5ddc55a-abc3-48e2-a39e-d318e42ee967",
   "metadata": {
    "tags": []
   },
   "outputs": [
    {
     "name": "stdout",
     "output_type": "stream",
     "text": [
      "32more string\n"
     ]
    }
   ],
   "source": [
    "s = str(32) + 'more string'\n",
    "print(s)"
   ]
  },
  {
   "cell_type": "code",
   "execution_count": 11,
   "id": "103f73f7-d56c-4cc9-b446-d8334c0b0d6f",
   "metadata": {
    "tags": []
   },
   "outputs": [
    {
     "data": {
      "text/plain": [
       "' foo bar foo '"
      ]
     },
     "execution_count": 11,
     "metadata": {},
     "output_type": "execute_result"
    }
   ],
   "source": [
    "' {0} {1} {0} '.format('foo', 'bar')"
   ]
  }
 ],
 "metadata": {
  "kernelspec": {
   "display_name": "Python 3 (ipykernel)",
   "language": "python",
   "name": "python3"
  },
  "language_info": {
   "codemirror_mode": {
    "name": "ipython",
    "version": 3
   },
   "file_extension": ".py",
   "mimetype": "text/x-python",
   "name": "python",
   "nbconvert_exporter": "python",
   "pygments_lexer": "ipython3",
   "version": "3.11.1"
  }
 },
 "nbformat": 4,
 "nbformat_minor": 5
}
