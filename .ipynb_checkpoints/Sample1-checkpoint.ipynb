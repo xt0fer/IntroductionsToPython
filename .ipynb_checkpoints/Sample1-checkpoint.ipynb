{
 "cells": [
  {
   "cell_type": "code",
   "execution_count": 1,
   "id": "1bdf2787-82fc-4a40-bad6-dca35774b514",
   "metadata": {
    "tags": []
   },
   "outputs": [
    {
     "name": "stdout",
     "output_type": "stream",
     "text": [
      "Hello ZipCode\n"
     ]
    }
   ],
   "source": [
    "print('Hello ZipCode')"
   ]
  },
  {
   "cell_type": "code",
   "execution_count": 18,
   "id": "70de6b39-00a7-40b7-8669-ab5a998f8413",
   "metadata": {
    "tags": []
   },
   "outputs": [],
   "source": [
    "class Kris:\n",
    "    x = 9.0\n",
    "    \n",
    "    def getSum(self):\n",
    "        return self.x\n"
   ]
  },
  {
   "cell_type": "code",
   "execution_count": 2,
   "id": "29ee7177-242c-401e-9222-0904cd8d7be5",
   "metadata": {
    "tags": []
   },
   "outputs": [
    {
     "data": {
      "text/plain": [
       "4.166666666666667"
      ]
     },
     "execution_count": 2,
     "metadata": {},
     "output_type": "execute_result"
    }
   ],
   "source": [
    "4 + 3 / 18"
   ]
  },
  {
   "cell_type": "code",
   "execution_count": 3,
   "id": "03e0d386-88ad-4e83-85ba-999441feacc5",
   "metadata": {
    "tags": []
   },
   "outputs": [],
   "source": [
    "foo = 5.67849283279372987319872"
   ]
  },
  {
   "cell_type": "code",
   "execution_count": 4,
   "id": "339f7b34-7cf3-4110-af1d-d49d187fd0bd",
   "metadata": {
    "tags": []
   },
   "outputs": [],
   "source": [
    "bar = foo / 4.166666667"
   ]
  },
  {
   "cell_type": "code",
   "execution_count": 7,
   "id": "7d6bb73a-4d93-47e6-87b6-2dea1f97362d",
   "metadata": {
    "tags": []
   },
   "outputs": [
    {
     "name": "stdout",
     "output_type": "stream",
     "text": [
      "kristofer\n"
     ]
    }
   ],
   "source": [
    "print(bar)"
   ]
  },
  {
   "cell_type": "code",
   "execution_count": 6,
   "id": "3d09f243-badc-4c1e-a59f-99a58302c53e",
   "metadata": {
    "tags": []
   },
   "outputs": [],
   "source": [
    "bar = 'kristofer'"
   ]
  },
  {
   "cell_type": "code",
   "execution_count": 19,
   "id": "fd812822-6ebe-4893-9303-26fd79c54c3b",
   "metadata": {
    "tags": []
   },
   "outputs": [
    {
     "name": "stdout",
     "output_type": "stream",
     "text": [
      "<__main__.Kris object at 0x7fa1184ab160>\n"
     ]
    }
   ],
   "source": [
    "foo = Kris()\n",
    "print(foo)"
   ]
  },
  {
   "cell_type": "code",
   "execution_count": 20,
   "id": "b13e2158-989b-4a4b-8862-7ad3e99d5757",
   "metadata": {
    "tags": []
   },
   "outputs": [
    {
     "name": "stdout",
     "output_type": "stream",
     "text": [
      "9.0\n"
     ]
    }
   ],
   "source": [
    "print(foo.getSum())"
   ]
  },
  {
   "cell_type": "code",
   "execution_count": 28,
   "id": "32e3f136-cb3e-44fc-a675-f13b23dc7c5b",
   "metadata": {
    "tags": []
   },
   "outputs": [
    {
     "data": {
      "text/plain": [
       "type"
      ]
     },
     "execution_count": 28,
     "metadata": {},
     "output_type": "execute_result"
    }
   ],
   "source": [
    "type(float)"
   ]
  },
  {
   "cell_type": "code",
   "execution_count": 55,
   "id": "b012c8be-84e0-4805-8f53-2e4550bb0164",
   "metadata": {
    "tags": []
   },
   "outputs": [],
   "source": [
    "def best_ice_cream(s : str):\n",
    "    print(s)\n",
    "    print('but pistachio is way better')"
   ]
  },
  {
   "cell_type": "code",
   "execution_count": 56,
   "id": "56f0507f-8c6e-4b2e-9a98-5137738d8aae",
   "metadata": {
    "tags": []
   },
   "outputs": [
    {
     "data": {
      "text/plain": [
       "function"
      ]
     },
     "execution_count": 56,
     "metadata": {},
     "output_type": "execute_result"
    }
   ],
   "source": [
    "type(best_ice_cream)"
   ]
  },
  {
   "cell_type": "code",
   "execution_count": 57,
   "id": "bb2b8417-1416-429b-b0ef-330233b54706",
   "metadata": {
    "tags": []
   },
   "outputs": [],
   "source": [
    "bic = best_ice_cream"
   ]
  },
  {
   "cell_type": "code",
   "execution_count": 59,
   "id": "57f53229-8116-4f52-ba3d-152832a8576a",
   "metadata": {
    "tags": []
   },
   "outputs": [
    {
     "name": "stdout",
     "output_type": "stream",
     "text": [
      "5\n",
      "but pistachio is way better\n"
     ]
    }
   ],
   "source": [
    "bic(5)"
   ]
  },
  {
   "cell_type": "code",
   "execution_count": 60,
   "id": "989e2dfb-9d1c-4829-88fe-544afe2004e7",
   "metadata": {
    "tags": []
   },
   "outputs": [],
   "source": [
    "def adder(a, b):\n",
    "    return a + b"
   ]
  },
  {
   "cell_type": "code",
   "execution_count": 61,
   "id": "3a1db774-f391-4e81-accf-6ce4b69cdabf",
   "metadata": {
    "tags": []
   },
   "outputs": [
    {
     "name": "stdout",
     "output_type": "stream",
     "text": [
      "40\n"
     ]
    }
   ],
   "source": [
    "print(adder(17, 23))"
   ]
  },
  {
   "cell_type": "code",
   "execution_count": 63,
   "id": "1b257aac-0fde-4684-be40-0c1f71337301",
   "metadata": {
    "tags": []
   },
   "outputs": [
    {
     "name": "stdout",
     "output_type": "stream",
     "text": [
      "Hello\n",
      " \n",
      "Hello\n",
      "Hello\n"
     ]
    }
   ],
   "source": [
    "def say_hello():\n",
    "    print(\"Hello\")\n",
    "\n",
    "def say_hello_two_times():\n",
    "    say_hello()\n",
    "    say_hello()\n",
    "\n",
    "say_hello()\n",
    "# Hello\n",
    "print(\" \")\n",
    "\n",
    "say_hello_two_times()\n",
    "# Hello\n",
    "# Hello"
   ]
  },
  {
   "cell_type": "code",
   "execution_count": 64,
   "id": "99bd94fc-5fca-4c05-be9c-2212069b43cf",
   "metadata": {
    "tags": []
   },
   "outputs": [
    {
     "name": "stdout",
     "output_type": "stream",
     "text": [
      "Bob\n",
      "John\n",
      "Alice\n"
     ]
    }
   ],
   "source": [
    "name = 'Alice'\n",
    "\n",
    "def print_name():\n",
    "    name = 'Bob'\n",
    "    print(name)\n",
    "\n",
    "def print_other_name():\n",
    "    name = 'John'\n",
    "    print(name)\n",
    "\n",
    "print_name()\n",
    "# Bob \n",
    "\n",
    "print_other_name()\n",
    "# John\n",
    "\n",
    "print(name)\n",
    "# Alice"
   ]
  },
  {
   "cell_type": "code",
   "execution_count": 65,
   "id": "67a03ff9-eb1c-4e48-8f10-e63a9505d835",
   "metadata": {
    "tags": []
   },
   "outputs": [],
   "source": [
    "double = lambda x: x * 2"
   ]
  },
  {
   "cell_type": "code",
   "execution_count": 66,
   "id": "498e3ca2-81d3-41a9-a188-dc4011ac8053",
   "metadata": {
    "tags": []
   },
   "outputs": [
    {
     "data": {
      "text/plain": [
       "12"
      ]
     },
     "execution_count": 66,
     "metadata": {},
     "output_type": "execute_result"
    }
   ],
   "source": [
    "double(6)"
   ]
  },
  {
   "cell_type": "code",
   "execution_count": 67,
   "id": "2162ae20-079d-4ab9-b516-56b6a29dce83",
   "metadata": {
    "tags": []
   },
   "outputs": [
    {
     "data": {
      "text/plain": [
       "27"
      ]
     },
     "execution_count": 67,
     "metadata": {},
     "output_type": "execute_result"
    }
   ],
   "source": [
    "def exponentiator(exponent):\n",
    "    def raise_x(x):\n",
    "        return x ** exponent\n",
    "    return raise_x\n",
    "\n",
    "\n",
    "square = exponentiator(2)\n",
    "square(2)\n",
    "# 4\n",
    "square(4)\n",
    "# 16\n",
    "cube = exponentiator(3)\n",
    "cube(2)\n",
    "# 8\n",
    "cube(3)\n",
    "# 27"
   ]
  },
  {
   "cell_type": "code",
   "execution_count": 71,
   "id": "259b5f51-7b3d-49f2-8288-88fa7aae5a82",
   "metadata": {
    "tags": []
   },
   "outputs": [
    {
     "name": "stdout",
     "output_type": "stream",
     "text": [
      "<function exponentiator at 0x7fa1082295e0>\n"
     ]
    }
   ],
   "source": [
    "print(exponentiator)"
   ]
  },
  {
   "cell_type": "code",
   "execution_count": 72,
   "id": "572e2e80-385d-4da8-a9eb-0c576e1a12e0",
   "metadata": {
    "tags": []
   },
   "outputs": [
    {
     "name": "stdout",
     "output_type": "stream",
     "text": [
      "<function exponentiator.<locals>.raise_x at 0x7fa0f9b33700>\n"
     ]
    }
   ],
   "source": [
    "print(square)"
   ]
  },
  {
   "cell_type": "code",
   "execution_count": 73,
   "id": "cad79d14-3aca-4c0a-9a12-dc8402be617e",
   "metadata": {
    "tags": []
   },
   "outputs": [
    {
     "name": "stdin",
     "output_type": "stream",
     "text": [
      "What is your name?\n",
      " Kris\n"
     ]
    }
   ],
   "source": [
    "name = input(\"What is your name?\\n\")"
   ]
  }
 ],
 "metadata": {
  "kernelspec": {
   "display_name": "Python 3 (ipykernel)",
   "language": "python",
   "name": "python3"
  },
  "language_info": {
   "codemirror_mode": {
    "name": "ipython",
    "version": 3
   },
   "file_extension": ".py",
   "mimetype": "text/x-python",
   "name": "python",
   "nbconvert_exporter": "python",
   "pygments_lexer": "ipython3",
   "version": "3.8.16"
  }
 },
 "nbformat": 4,
 "nbformat_minor": 5
}
