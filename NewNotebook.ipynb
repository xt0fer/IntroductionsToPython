{
 "cells": [
  {
   "cell_type": "code",
   "execution_count": null,
   "id": "f321648e-42fa-40f1-9cdf-f9756390b0f3",
   "metadata": {
    "tags": []
   },
   "outputs": [],
   "source": [
    "a = range(10)\n",
    "print(a)\n",
    "# range(0, 10)\n",
    "\n"
   ]
  },
  {
   "cell_type": "code",
   "execution_count": null,
   "id": "1176a867-745a-4df2-a15d-ddc492e0766f",
   "metadata": {
    "tags": []
   },
   "outputs": [],
   "source": [
    "for i in a:\n",
    "    print(i)"
   ]
  },
  {
   "cell_type": "code",
   "execution_count": null,
   "id": "e791d577-c5d0-4581-bfee-415cd3dae076",
   "metadata": {
    "tags": []
   },
   "outputs": [],
   "source": [
    "type(range)\n",
    "# <class 'type'>"
   ]
  },
  {
   "cell_type": "code",
   "execution_count": null,
   "id": "6f209c44-8fe4-4299-a4e3-b78c203f5f14",
   "metadata": {
    "tags": []
   },
   "outputs": [],
   "source": [
    "type(a)\n",
    "# <class 'range'>"
   ]
  },
  {
   "cell_type": "code",
   "execution_count": null,
   "id": "8e1b6179-3729-4f30-babe-9aa17602b95a",
   "metadata": {
    "tags": []
   },
   "outputs": [],
   "source": [
    "list(a)\n",
    "# [0, 1, 2, 3, 4, 5, 6, 7, 8, 9]"
   ]
  },
  {
   "cell_type": "code",
   "execution_count": 1,
   "id": "28f5531a-63d3-4bf4-ab98-074f796300ad",
   "metadata": {
    "tags": []
   },
   "outputs": [
    {
     "name": "stdout",
     "output_type": "stream",
     "text": [
      "5\n",
      "4\n",
      "3\n",
      "2\n",
      "1\n",
      "Blastoff!\n"
     ]
    }
   ],
   "source": [
    "def countdown(n):\n",
    "    while(n > 0):\n",
    "        print(n)\n",
    "        n = n - 1\n",
    "    print(\"Blastoff!\")\n",
    "\n",
    "countdown(5)"
   ]
  },
  {
   "cell_type": "code",
   "execution_count": null,
   "id": "84507af6-a527-4dcf-a06a-7acb6f0142c8",
   "metadata": {
    "tags": []
   },
   "outputs": [],
   "source": [
    "def toplevel():\n",
    "    print('toplevel')\n",
    "\n",
    "def bottomlevel():\n",
    "    print('bottomlevel')\n",
    "    pass\n",
    "\n",
    "def main(foo : str):\n",
    "    toplevel()\n",
    "    bottomlevel()\n",
    "    print(foo)\n",
    "    \n",
    "main(\"kris\")"
   ]
  },
  {
   "cell_type": "code",
   "execution_count": null,
   "id": "9bbb9dfa-2e40-4d09-8a86-cd6a2e1c9836",
   "metadata": {
    "tags": []
   },
   "outputs": [],
   "source": [
    "def countdown(n):\n",
    "    if n <= 0: # Base case\n",
    "        print('Blastoff!') \n",
    "    else:\n",
    "        print(n)\n",
    "        countdown(n - 1)\n",
    "\n",
    "countdown(10)"
   ]
  },
  {
   "cell_type": "code",
   "execution_count": null,
   "id": "c59142e0-212c-4bf2-bc46-4750eeb36047",
   "metadata": {
    "tags": []
   },
   "outputs": [],
   "source": [
    "def endless_inception():\n",
    "    endless_inception()\n",
    "\n",
    "endless_inception()"
   ]
  },
  {
   "cell_type": "code",
   "execution_count": null,
   "id": "bfb00499-cfe6-4d00-bb03-47e8a31b90d4",
   "metadata": {
    "tags": []
   },
   "outputs": [],
   "source": [
    "sum = 0\n",
    "for i in range(13):\n",
    "    print(i)\n",
    "    sum += i\n",
    "print(sum)"
   ]
  }
 ],
 "metadata": {
  "kernelspec": {
   "display_name": "Python 3 (ipykernel)",
   "language": "python",
   "name": "python3"
  },
  "language_info": {
   "codemirror_mode": {
    "name": "ipython",
    "version": 3
   },
   "file_extension": ".py",
   "mimetype": "text/x-python",
   "name": "python",
   "nbconvert_exporter": "python",
   "pygments_lexer": "ipython3",
   "version": "3.8.16"
  }
 },
 "nbformat": 4,
 "nbformat_minor": 5
}
