{
 "cells": [
  {
   "cell_type": "markdown",
   "id": "8550828e",
   "metadata": {},
   "source": [
    "### A Datapipeline! (and shows JSON exercise too)\n",
    "This notebook shows intro to JSON and a simple datapipeline in 2nd half."
   ]
  },
  {
   "cell_type": "code",
   "execution_count": null,
   "id": "0145f4aa",
   "metadata": {},
   "outputs": [],
   "source": [
    "import json"
   ]
  },
  {
   "cell_type": "code",
   "execution_count": null,
   "id": "32b13a28",
   "metadata": {},
   "outputs": [],
   "source": [
    "with open(\"zipcoder.json\", \"r\") as read_file:\n",
    "    zc = json.load(read_file)"
   ]
  },
  {
   "cell_type": "code",
   "execution_count": null,
   "id": "ff8e593d",
   "metadata": {},
   "outputs": [],
   "source": [
    "print(zc)"
   ]
  },
  {
   "cell_type": "code",
   "execution_count": null,
   "id": "2a086681",
   "metadata": {},
   "outputs": [],
   "source": [
    "type(zc)"
   ]
  },
  {
   "cell_type": "code",
   "execution_count": null,
   "id": "8feed5b6",
   "metadata": {},
   "outputs": [],
   "source": [
    "type(zc['children'][0]['firstName'])\n",
    "print(zc['children'][0]['firstName'])"
   ]
  },
  {
   "cell_type": "code",
   "execution_count": null,
   "id": "59fe4c5f",
   "metadata": {},
   "outputs": [],
   "source": [
    "data = {\n",
    "    \"president\": {\n",
    "        \"name\": \"Zaphod Beeblebrox\",\n",
    "        \"species\": \"Betelgeusian\",\n",
    "        'age': 85,\n",
    "        'theta': 34.78992397\n",
    "    }\n",
    "}"
   ]
  },
  {
   "cell_type": "code",
   "execution_count": null,
   "id": "aef0685f",
   "metadata": {},
   "outputs": [],
   "source": [
    "type(data)"
   ]
  },
  {
   "cell_type": "code",
   "execution_count": null,
   "id": "027967bd",
   "metadata": {},
   "outputs": [],
   "source": [
    "with open(\"data_file.json\", \"w\") as write_file:\n",
    "    json.dump(data, write_file)"
   ]
  },
  {
   "cell_type": "code",
   "execution_count": null,
   "id": "69a004e9",
   "metadata": {},
   "outputs": [],
   "source": [
    "json_string = json.dumps(data)"
   ]
  },
  {
   "cell_type": "code",
   "execution_count": null,
   "id": "e96f3b1d",
   "metadata": {},
   "outputs": [],
   "source": [
    "print(json_string[19:])"
   ]
  },
  {
   "cell_type": "code",
   "execution_count": null,
   "id": "8196542a",
   "metadata": {},
   "outputs": [],
   "source": [
    "print(json.dumps(data, indent=2))"
   ]
  },
  {
   "cell_type": "code",
   "execution_count": null,
   "id": "bb92639f",
   "metadata": {},
   "outputs": [],
   "source": []
  },
  {
   "cell_type": "markdown",
   "id": "77bf2876",
   "metadata": {},
   "source": [
    "## Data Types Mapping\n",
    "\n",
    "\n",
    "- JSON -> Python\n",
    "- object -> dict\n",
    "- array -> list\n",
    "- string -> str\n",
    "- number (int) -> int\n",
    "- number (real) -> float\n",
    "- true -> True\n",
    "- false -> False\n",
    "- null -> None\n"
   ]
  },
  {
   "cell_type": "code",
   "execution_count": null,
   "id": "6306cb6c",
   "metadata": {},
   "outputs": [],
   "source": [
    "with open(\"data_file.json\", \"r\") as read_file:\n",
    "    data = json.load(read_file)"
   ]
  },
  {
   "cell_type": "code",
   "execution_count": null,
   "id": "5c79cc41",
   "metadata": {},
   "outputs": [],
   "source": [
    "print(data)"
   ]
  },
  {
   "cell_type": "code",
   "execution_count": null,
   "id": "5cccf098",
   "metadata": {},
   "outputs": [],
   "source": [
    "json_string = \"\"\"\n",
    "{\n",
    "    \"researcher\": {\n",
    "        \"name\": \"Ford Prefect\",\n",
    "        \"species\": \"Betelgeusian\",\n",
    "        \"relatives\": [\n",
    "            {\n",
    "                \"name\": \"Zaphod J. Beeblebrox\",\n",
    "                \"species\": \"Betelgeusian\"\n",
    "            }\n",
    "        ]\n",
    "    }\n",
    "}\n",
    "\"\"\"\n"
   ]
  },
  {
   "cell_type": "code",
   "execution_count": null,
   "id": "b6d42b6a",
   "metadata": {},
   "outputs": [],
   "source": [
    "type(json_string)"
   ]
  },
  {
   "cell_type": "code",
   "execution_count": null,
   "id": "4119822c",
   "metadata": {},
   "outputs": [],
   "source": [
    "data = json.loads(json_string)\n",
    "print(data, type(data))"
   ]
  },
  {
   "cell_type": "markdown",
   "id": "a32536e3",
   "metadata": {},
   "source": [
    "### A Simple Data pipeline\n",
    "\n",
    "uses [Requests python package](https://requests.readthedocs.io/en/latest/)"
   ]
  },
  {
   "cell_type": "code",
   "execution_count": null,
   "id": "6942a992",
   "metadata": {},
   "outputs": [],
   "source": [
    "import json\n",
    "import requests"
   ]
  },
  {
   "cell_type": "code",
   "execution_count": null,
   "id": "0c67048e",
   "metadata": {},
   "outputs": [],
   "source": [
    "response = requests.get(\"https://jsonplaceholder.typicode.com/todos\")\n",
    "todos = json.loads(response.text)"
   ]
  },
  {
   "cell_type": "code",
   "execution_count": null,
   "id": "7583bc4c",
   "metadata": {},
   "outputs": [],
   "source": [
    "todos == response.json()"
   ]
  },
  {
   "cell_type": "code",
   "execution_count": null,
   "id": "6d2ef4c9",
   "metadata": {},
   "outputs": [],
   "source": [
    "print(response)"
   ]
  },
  {
   "cell_type": "code",
   "execution_count": null,
   "id": "ad7bc8b2",
   "metadata": {},
   "outputs": [],
   "source": [
    "type(todos)"
   ]
  },
  {
   "cell_type": "code",
   "execution_count": null,
   "id": "a73dc65f",
   "metadata": {},
   "outputs": [],
   "source": [
    "len(todos)"
   ]
  },
  {
   "cell_type": "code",
   "execution_count": null,
   "id": "09c7f51b",
   "metadata": {},
   "outputs": [],
   "source": [
    "print(todos)"
   ]
  },
  {
   "cell_type": "code",
   "execution_count": null,
   "id": "47444790",
   "metadata": {},
   "outputs": [],
   "source": [
    "todos[1:5]"
   ]
  },
  {
   "cell_type": "code",
   "execution_count": null,
   "id": "15c53426",
   "metadata": {},
   "outputs": [],
   "source": [
    "# Map of userId to number of complete TODOs for that user\n",
    "todos_by_user = {}\n",
    "\n",
    "# Increment complete TODOs count for each user.\n",
    "for todo in todos:\n",
    "    if todo[\"completed\"]:\n",
    "        try:\n",
    "            # Increment the existing user's count.\n",
    "            todos_by_user[todo[\"userId\"]] += 1\n",
    "        except KeyError:\n",
    "            # This user has not been seen. Set their count to 1.\n",
    "            todos_by_user[todo[\"userId\"]] = 1\n",
    "\n",
    "# Create a sorted list of (userId, num_complete) tuples.\n",
    "top_users = sorted(todos_by_user.items(), key=lambda x: x[1], reverse=True)\n",
    "\n",
    "# Get the maximum number of complete TODOs.\n",
    "max_complete = top_users[0][1]\n",
    "\n",
    "# Create a list of all users who have completed\n",
    "# the maximum number of TODOs.\n",
    "users = []\n",
    "for user, num_complete in top_users:\n",
    "    if num_complete < max_complete:\n",
    "        break\n",
    "    users.append(str(user))\n",
    "\n",
    "max_users = \" and \".join(users)\n"
   ]
  },
  {
   "cell_type": "code",
   "execution_count": null,
   "id": "57c48158",
   "metadata": {},
   "outputs": [],
   "source": [
    "print(users)"
   ]
  },
  {
   "cell_type": "markdown",
   "id": "76d69472",
   "metadata": {},
   "source": [
    "For your final task, you’ll create a JSON file that contains the completed TODOs for each of the users who completed the maximum number of TODOs.\n",
    "\n",
    "All you need to do is filter todos and write the resulting list to a file. For the sake of originality, you can call the output file filtered_data_file.json. There are many ways you could go about this, but here’s one:"
   ]
  },
  {
   "cell_type": "code",
   "execution_count": null,
   "id": "ab7f5d05",
   "metadata": {},
   "outputs": [],
   "source": [
    "# Define a function to filter out completed TODOs \n",
    "# of users with max completed TODOS.\n",
    "def keep(todo):\n",
    "    is_complete = todo[\"completed\"]\n",
    "    has_max_count = str(todo[\"userId\"]) in users\n",
    "    return is_complete and has_max_count\n",
    "\n",
    "# Write filtered TODOs to file.\n",
    "with open(\"filtered_data_file.json\", \"w\") as data_file:\n",
    "    filtered_todos = list(filter(keep, todos))\n",
    "    json.dump(filtered_todos, data_file, indent=2)\n",
    "    "
   ]
  },
  {
   "cell_type": "markdown",
   "id": "e75c3e5c",
   "metadata": {},
   "source": [
    "But _hold on_ what does that `filtered_todos = list(filter(keep, todos))` line do?!?"
   ]
  },
  {
   "cell_type": "code",
   "execution_count": 83,
   "id": "1597ccd0",
   "metadata": {},
   "outputs": [],
   "source": [
    "# list(filter(keep, todos)) call above is identical to the following code\n",
    "\n",
    "tlist = []\n",
    "for t in todos:\n",
    "    if keep(t):\n",
    "        tlist.append(t)\n",
    "# tlist is result"
   ]
  },
  {
   "cell_type": "code",
   "execution_count": 84,
   "id": "bca60e04",
   "metadata": {},
   "outputs": [
    {
     "name": "stdout",
     "output_type": "stream",
     "text": [
      "[{'userId': 5, 'id': 81, 'title': 'suscipit qui totam', 'completed': True}, {'userId': 5, 'id': 83, 'title': 'quidem at rerum quis ex aut sit quam', 'completed': True}, {'userId': 5, 'id': 85, 'title': 'et quia ad iste a', 'completed': True}, {'userId': 5, 'id': 86, 'title': 'incidunt ut saepe autem', 'completed': True}, {'userId': 5, 'id': 87, 'title': 'laudantium quae eligendi consequatur quia et vero autem', 'completed': True}, {'userId': 5, 'id': 89, 'title': 'sequi ut omnis et', 'completed': True}, {'userId': 5, 'id': 90, 'title': 'molestiae nisi accusantium tenetur dolorem et', 'completed': True}, {'userId': 5, 'id': 91, 'title': 'nulla quis consequatur saepe qui id expedita', 'completed': True}, {'userId': 5, 'id': 92, 'title': 'in omnis laboriosam', 'completed': True}, {'userId': 5, 'id': 93, 'title': 'odio iure consequatur molestiae quibusdam necessitatibus quia sint', 'completed': True}, {'userId': 5, 'id': 95, 'title': 'vel nihil et molestiae iusto assumenda nemo quo ut', 'completed': True}, {'userId': 5, 'id': 98, 'title': 'debitis accusantium ut quo facilis nihil quis sapiente necessitatibus', 'completed': True}, {'userId': 10, 'id': 182, 'title': 'inventore saepe cumque et aut illum enim', 'completed': True}, {'userId': 10, 'id': 183, 'title': 'omnis nulla eum aliquam distinctio', 'completed': True}, {'userId': 10, 'id': 188, 'title': 'vel non beatae est', 'completed': True}, {'userId': 10, 'id': 189, 'title': 'culpa eius et voluptatem et', 'completed': True}, {'userId': 10, 'id': 190, 'title': 'accusamus sint iusto et voluptatem exercitationem', 'completed': True}, {'userId': 10, 'id': 191, 'title': 'temporibus atque distinctio omnis eius impedit tempore molestias pariatur', 'completed': True}, {'userId': 10, 'id': 193, 'title': 'rerum debitis voluptatem qui eveniet tempora distinctio a', 'completed': True}, {'userId': 10, 'id': 195, 'title': 'rerum ex veniam mollitia voluptatibus pariatur', 'completed': True}, {'userId': 10, 'id': 196, 'title': 'consequuntur aut ut fugit similique', 'completed': True}, {'userId': 10, 'id': 197, 'title': 'dignissimos quo nobis earum saepe', 'completed': True}, {'userId': 10, 'id': 198, 'title': 'quis eius est sint explicabo', 'completed': True}, {'userId': 10, 'id': 199, 'title': 'numquam repellendus a magnam', 'completed': True}]\n"
     ]
    }
   ],
   "source": [
    "print(tlist)"
   ]
  },
  {
   "cell_type": "markdown",
   "id": "7d222651",
   "metadata": {},
   "source": [
    "## Now...\n",
    "\n",
    "Figure out which of the cells above are needed to create a \"top-users-complete.py\" file which when run from the python interepreter, outputs the correct data to a JSON file?\n",
    "\n",
    "Do that. Make the script, run it, and prove the two outputs are equal.\n",
    "\n",
    "That's the \"take the notebook code which works\" and turn it into a \"python script that can be run from anywhere\".\n"
   ]
  },
  {
   "cell_type": "code",
   "execution_count": null,
   "id": "b4084122",
   "metadata": {},
   "outputs": [],
   "source": []
  }
 ],
 "metadata": {
  "kernelspec": {
   "display_name": "Python 3 (ipykernel)",
   "language": "python",
   "name": "python3"
  },
  "language_info": {
   "codemirror_mode": {
    "name": "ipython",
    "version": 3
   },
   "file_extension": ".py",
   "mimetype": "text/x-python",
   "name": "python",
   "nbconvert_exporter": "python",
   "pygments_lexer": "ipython3",
   "version": "3.8.16"
  }
 },
 "nbformat": 4,
 "nbformat_minor": 5
}
